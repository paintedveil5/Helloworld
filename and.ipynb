{
  "nbformat": 4,
  "nbformat_minor": 0,
  "metadata": {
    "colab": {
      "provenance": [],
      "authorship_tag": "ABX9TyO4mgVE3t8ZQEWED3oooaMr",
      "include_colab_link": true
    },
    "kernelspec": {
      "name": "python3",
      "display_name": "Python 3"
    },
    "language_info": {
      "name": "python"
    }
  },
  "cells": [
    {
      "cell_type": "markdown",
      "metadata": {
        "id": "view-in-github",
        "colab_type": "text"
      },
      "source": [
        "<a href=\"https://colab.research.google.com/github/paintedveil5/Helloworld/blob/master/and.ipynb\" target=\"_parent\"><img src=\"https://colab.research.google.com/assets/colab-badge.svg\" alt=\"Open In Colab\"/></a>"
      ]
    },
    {
      "cell_type": "code",
      "execution_count": null,
      "metadata": {
        "colab": {
          "base_uri": "https://localhost:8080/"
        },
        "id": "0XVwaSh7OESl",
        "outputId": "4a13efb3-4e2e-40de-cd45-8b225c630434"
      },
      "outputs": [
        {
          "output_type": "stream",
          "name": "stdout",
          "text": [
            "[[0, 0], [1, 0], [0, 1], [1, 1]] : results [0 0 0 1]\n",
            "Accuracy =  1.0\n"
          ]
        }
      ],
      "source": [
        "from sklearn.svm import LinearSVC\n",
        "from sklearn.metrics import accuracy_score\n",
        "\n",
        "# X, Y\n",
        "learn_data = [[0,0], [1,0], [0,1], [1,1]]\n",
        "# X and Y\n",
        "learn_label = [0, 0, 0, 1]\n",
        "\n",
        "# Assign the algorithm\n",
        "clf = LinearSVC()\n",
        "\n",
        "# learn learn_data and learn_label\n",
        "clf.fit(learn_data, learn_label)\n",
        "\n",
        "# predict results\n",
        "test_data = [[0,0], [1,0], [0,1], [1,1]]\n",
        "test_label = clf.predict(test_data)\n",
        "\n",
        "# evluate the results\n",
        "print(test_data, \": results\", test_label)\n",
        "print(\"Accuracy = \", accuracy_score([0, 0, 0, 1], test_label))"
      ]
    },
    {
      "cell_type": "code",
      "source": [
        "from sklearn.svm import LinearSVC\n",
        "from sklearn.metrics import accuracy_score\n",
        "\n",
        "# X, Y\n",
        "learn_data = [[0,0], [1,0], [0,1], [1,1]]\n",
        "# X and Y\n",
        "learn_label = [0, 1, 1, 0]\n",
        "\n",
        "# Assign the algorithm\n",
        "clf = LinearSVC()\n",
        "\n",
        "# learn learn_data and learn_label\n",
        "clf.fit(learn_data, learn_label)\n",
        "\n",
        "# predict results\n",
        "test_data = [[0,0], [1,0], [0,1], [1,1]]\n",
        "test_label = clf.predict(test_data)\n",
        "\n",
        "# evluate the results\n",
        "print(test_data, \": results\", test_label)\n",
        "print(\"Accuracy = \", accuracy_score([0, 0, 0, 1], test_label))"
      ],
      "metadata": {
        "colab": {
          "base_uri": "https://localhost:8080/"
        },
        "id": "b23UK0UAaVWm",
        "outputId": "206faccd-3b86-449c-f75a-f6618a9f013f"
      },
      "execution_count": 1,
      "outputs": [
        {
          "output_type": "stream",
          "name": "stdout",
          "text": [
            "[[0, 0], [1, 0], [0, 1], [1, 1]] : results [0 0 0 0]\n",
            "Accuracy =  0.75\n"
          ]
        }
      ]
    },
    {
      "cell_type": "code",
      "source": [
        "from sklearn.neighbors import KNeighborsClassifier\n",
        "from sklearn.metrics import accuracy_score\n",
        "\n",
        "# X, Y\n",
        "learn_data = [[0,0], [1,0], [0,1], [1,1]]\n",
        "# X and Y\n",
        "learn_label = [0, 1, 1, 0]\n",
        "\n",
        "# Assign the algorithm\n",
        "clf = KNeighborsClassifier(n_neighbors = 1)\n",
        "\n",
        "# learn learn_data and learn_label\n",
        "clf.fit(learn_data, learn_label)\n",
        "\n",
        "# predict results\n",
        "test_data = [[0,0], [1,0], [0,1], [1,1]]\n",
        "test_label = clf.predict(test_data)\n",
        "\n",
        "# evluate the results\n",
        "print(test_data, \": results\", test_label)\n",
        "print(\"Accuracy = \", accuracy_score([0, 0, 0, 1], test_label))"
      ],
      "metadata": {
        "colab": {
          "base_uri": "https://localhost:8080/"
        },
        "id": "rSp95r7kbKba",
        "outputId": "94233276-89d9-416c-d5b7-ab85e073f91f"
      },
      "execution_count": 5,
      "outputs": [
        {
          "output_type": "stream",
          "name": "stdout",
          "text": [
            "[[0, 0], [1, 0], [0, 1], [1, 1]] : results [0 1 1 0]\n",
            "Accuracy =  0.25\n"
          ]
        }
      ]
    }
  ]
}